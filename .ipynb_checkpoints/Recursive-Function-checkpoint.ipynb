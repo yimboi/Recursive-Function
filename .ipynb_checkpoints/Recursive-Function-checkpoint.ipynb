{
 "cells": [
  {
   "cell_type": "markdown",
   "id": "711e802f-cdc8-4b7a-84ac-ae2869f48680",
   "metadata": {},
   "source": [
    "# Introduction"
   ]
  },
  {
   "cell_type": "raw",
   "id": "f9694a9d-f76d-4a83-9f4f-b2efe7083f6a",
   "metadata": {},
   "source": [
    "The term Recursion can be defined as the process of defining something in terms of itself. In simple words, it is a process in which a function calls itself directly or indirectly. "
   ]
  },
  {
   "cell_type": "raw",
   "id": "451f3f45-1743-4489-9f3e-6b5898645342",
   "metadata": {},
   "source": [
    "Advantages of using recursion: \n",
    "\n",
    "1) A complicated function can be split down into smaller sub-problems utilizing recursion.\n",
    "2) Sequence creation is simpler through recursion than utilizing any nested iteration.\n",
    "3) Recursive functions render the code look simple and effective.\n",
    "\n",
    "Disadvantages of using recursion:\n",
    "\n",
    "1) A lot of memory and time is taken through recursive calls which makes it expensive for use.\n",
    "2) Recursive functions are challenging to debug.\n",
    "3) The reasoning behind recursion can sometimes be tough to think through."
   ]
  },
  {
   "cell_type": "markdown",
   "id": "4f21f92b-eaa7-4127-9eed-bc6501857587",
   "metadata": {},
   "source": [
    "## Example - Factorial"
   ]
  },
  {
   "cell_type": "code",
   "execution_count": 6,
   "id": "9506b33e-61f4-499f-8f59-18502b3a9350",
   "metadata": {},
   "outputs": [
    {
     "data": {
      "text/plain": [
       "720"
      ]
     },
     "execution_count": 6,
     "metadata": {},
     "output_type": "execute_result"
    }
   ],
   "source": [
    "# Example with recursive function - using a factorial calculation to find the factorial of 6\n",
    "\n",
    "def factorial(x):\n",
    "    \n",
    "    if x == 1:\n",
    "        return 1\n",
    "    else:\n",
    "        return (x*factorial(x-1)) # recursion starts where x - 1 : 5 and passes 5 into the function as the new argument\n",
    "    \n",
    "factorial(6)"
   ]
  },
  {
   "cell_type": "raw",
   "id": "3f9f149d-dbfa-4e26-9797-398cf19b9a1c",
   "metadata": {},
   "source": [
    "As examplified above, the factorial is actually a product of all integers from 1 to 6.\n",
    "\n",
    "When we call a positive integer which is 6, it will recursivly call itself (block code #2, return (x*factorial(x-1)) by decreasing its number\n",
    "\n",
    "The steps is as follows:\n",
    "\n",
    "factorial(3)          # 1st call with 3\n",
    "3 * factorial(2)      # 2nd call with 2\n",
    "3 * 2 * factorial(1)  # 3rd call with 1\n",
    "3 * 2 * 1             # return from 3rd call as number=1 (to escape the loop)\n",
    "3 * 2                 # return from 2nd call\n",
    "6                     # return from 1st call\n",
    "\n",
    "\n",
    "Our recursion ends when the number reduces to 1. This is called the base condition.\n",
    "\n",
    "Every recursive function must have a base condition that stops the recursion or else the function calls itself infinitely."
   ]
  },
  {
   "cell_type": "markdown",
   "id": "1fa8c76d-095e-4d06-a99b-9a6950a292a9",
   "metadata": {},
   "source": [
    "## Example - Fibonnaci Series"
   ]
  },
  {
   "cell_type": "code",
   "execution_count": 24,
   "id": "ed8b9758-548e-47d7-bd83-b42e7e40e77d",
   "metadata": {},
   "outputs": [
    {
     "name": "stdout",
     "output_type": "stream",
     "text": [
      "1\n",
      "1\n",
      "2\n",
      "3\n",
      "5\n",
      "8\n"
     ]
    }
   ],
   "source": [
    "# The Fibonacci Sequence is the series of numbers: 0, 1, 1, 2, 3, 5, 8, 13, 21, 34, ... where the next number is found by adding up the two numbers before it:\n",
    "\n",
    "def fibonacci(n):\n",
    "    if n <= 1:\n",
    "        return 1\n",
    "    else:\n",
    "        return (fibonacci(n-2)+fibonacci(n-1))\n",
    "    \n",
    "n = 6\n",
    "\n",
    "for i in range(0,n):\n",
    "    print(fibonacci(i))"
   ]
  },
  {
   "cell_type": "raw",
   "id": "b57fc598-f897-46f5-947f-7048afc06374",
   "metadata": {},
   "source": [
    "As examplified above, the fibonacci is the series of the sum of the previous two integers\n",
    "\n",
    "When we call a positive integer which is 5, it will recursivly call itself (block code #2, return (fibonacci(n-2)+fibonacci(n-1))) by decreasing its number by 2 and 1 respectively\n",
    "\n",
    "The steps is as follows:\n",
    "\n",
    "fibonacci (3)                                      # 1st call with n = 3\n",
    "n = 3, fibonacci (2-2) + fibonacci (2-1) = 1       # 2nd call with n = 2\n",
    "n = 3, n = 2, 1 return 1                           # 3rd call with n = 1 # notice that fibonacci(1) = -1 but this will result the code escape from the loop since n <= 1\n",
    "1                                                  # return from the 3rd call as n = 1 (to escape the loop) \n",
    "1, 1                                               # return from 2nd call\n",
    "3, 2, 1, 1                                         # return from 1st call\n",
    "\n",
    "\n",
    "Our recursion ends when the number reduces to 1. This is called the base condition.\n",
    "\n",
    "Every recursive function must have a base condition that stops the recursion or else the function calls itself infinitely."
   ]
  }
 ],
 "metadata": {
  "kernelspec": {
   "display_name": "Python 3 (ipykernel)",
   "language": "python",
   "name": "python3"
  },
  "language_info": {
   "codemirror_mode": {
    "name": "ipython",
    "version": 3
   },
   "file_extension": ".py",
   "mimetype": "text/x-python",
   "name": "python",
   "nbconvert_exporter": "python",
   "pygments_lexer": "ipython3",
   "version": "3.9.7"
  }
 },
 "nbformat": 4,
 "nbformat_minor": 5
}
